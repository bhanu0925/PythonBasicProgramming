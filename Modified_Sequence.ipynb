{
  "nbformat": 4,
  "nbformat_minor": 0,
  "metadata": {
    "colab": {
      "name": "Modified_Sequence.ipynb",
      "provenance": [],
      "authorship_tag": "ABX9TyN3G+g+43Z4OM5ULKfpuCuG",
      "include_colab_link": true
    },
    "kernelspec": {
      "name": "python3",
      "display_name": "Python 3"
    },
    "language_info": {
      "name": "python"
    }
  },
  "cells": [
    {
      "cell_type": "markdown",
      "metadata": {
        "id": "view-in-github",
        "colab_type": "text"
      },
      "source": [
        "<a href=\"https://colab.research.google.com/github/bhanu0925/PythonBasicProgramming/blob/main/Modified_Sequence.ipynb\" target=\"_parent\"><img src=\"https://colab.research.google.com/assets/colab-badge.svg\" alt=\"Open In Colab\"/></a>"
      ]
    },
    {
      "cell_type": "markdown",
      "source": [
        "## Find the modified sequence"
      ],
      "metadata": {
        "id": "zeWCreR2DYiU"
      }
    },
    {
      "cell_type": "code",
      "source": [
        "def returnTheModofiedSentence(text):\n",
        "  final_word = []\n",
        "  words = text.split()\n",
        "  for word in words: # for each words in the sentence\n",
        "    new_word = []\n",
        "    len_of_word = len(word) # find length of the current word\n",
        "    char_str = ''\n",
        "\n",
        "    for c in word: # iterate through each charecters of the word\n",
        "      if c.isupper(): # if the charecter is in upper case\n",
        "        new_length = ord(c)+len_of_word # then the find the new length\n",
        "        if new_length >= ord('Z'): ## if the lenght is more then Z\n",
        "          char_str = char_str + chr(ord('Z')) # then on consider Z\n",
        "        else:\n",
        "          new_char = chr(ord(c)+len_of_word)    # if lengh is not greater than Z\n",
        "          char_str = char_str + new_char ## add the new letter to make it new letter of the word\n",
        "      else:\n",
        "        new_length = ord(c)+len_of_word  # if the letter is lower, find the new lengh of the charecter\n",
        "        if new_length >= ord('z'): # if length goes more than z\n",
        "          char_str = char_str + chr(ord('z')) # consider only z\n",
        "        else:\n",
        "          new_char = chr(ord(c)+len_of_word) # if lengh is not more than z keep the same letter\n",
        "          char_str = char_str + new_char\n",
        "    len_of_word = 0\n",
        "    new_length = 0\n",
        "    final_word.append(char_str) ## append that in to final list\n",
        "  return ' '.join(final_word) ## return the list\n",
        "\n",
        "\n",
        "\n"
      ],
      "metadata": {
        "id": "Tw_3iUTSvS7S"
      },
      "execution_count": 94,
      "outputs": []
    },
    {
      "cell_type": "code",
      "source": [
        "modified_text = returnTheModofiedSentence(input(\"enter the text\\n\"))\n",
        "modified_text"
      ],
      "metadata": {
        "colab": {
          "base_uri": "https://localhost:8080/",
          "height": 72
        },
        "id": "GwVoUoGB6ZND",
        "outputId": "d0dfb8e0-f8ca-4821-e28c-e351307d1bd7"
      },
      "execution_count": 95,
      "outputs": [
        {
          "name": "stdout",
          "output_type": "stream",
          "text": [
            "enter the text\n",
            "ABCDX\n"
          ]
        },
        {
          "output_type": "execute_result",
          "data": {
            "text/plain": [
              "'FGHIZ'"
            ],
            "application/vnd.google.colaboratory.intrinsic+json": {
              "type": "string"
            }
          },
          "metadata": {},
          "execution_count": 95
        }
      ]
    },
    {
      "cell_type": "code",
      "source": [
        "modified_text = returnTheModofiedSentence(input(\"enter the text\\n\"))\n",
        "modified_text"
      ],
      "metadata": {
        "colab": {
          "base_uri": "https://localhost:8080/",
          "height": 72
        },
        "id": "3nfSXQFV6ZLt",
        "outputId": "11fa0b3c-09de-49c8-912c-691a1dca2f3f"
      },
      "execution_count": 96,
      "outputs": [
        {
          "name": "stdout",
          "output_type": "stream",
          "text": [
            "enter the text\n",
            "GO iNDIa\n"
          ]
        },
        {
          "output_type": "execute_result",
          "data": {
            "text/plain": [
              "'IQ nSINf'"
            ],
            "application/vnd.google.colaboratory.intrinsic+json": {
              "type": "string"
            }
          },
          "metadata": {},
          "execution_count": 96
        }
      ]
    },
    {
      "cell_type": "code",
      "source": [
        ""
      ],
      "metadata": {
        "id": "8-eZCWl06Y8n"
      },
      "execution_count": null,
      "outputs": []
    }
  ]
}