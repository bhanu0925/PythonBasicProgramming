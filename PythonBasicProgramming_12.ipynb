{
 "cells": [
  {
   "cell_type": "markdown",
   "metadata": {},
   "source": [
    "## PythonBasicProgramming_12"
   ]
  },
  {
   "cell_type": "markdown",
   "metadata": {},
   "source": [
    "### 1. Write a Python program to Extract Unique values dictionary values?\n"
   ]
  },
  {
   "cell_type": "code",
   "execution_count": 1,
   "metadata": {},
   "outputs": [
    {
     "name": "stdout",
     "output_type": "stream",
     "text": [
      "unique value from dictionry values are : {1, 2, 5, 6, 7, 8, 10, 11, 12}\n"
     ]
    }
   ],
   "source": [
    "test_dict = {'a' : [5, 6, 7, 8],\n",
    "             'b' : [10, 11, 7, 5],\n",
    "             'c' : [6, 12, 10, 8],\n",
    "             'd' : [1, 2, 5,8]}\n",
    "\n",
    "lstSet = set([ele for val in test_dict.values() for ele in val])\n",
    "print(\"unique value from dictionry values are : {}\".format(lstSet))\n",
    "        "
   ]
  },
  {
   "cell_type": "markdown",
   "metadata": {},
   "source": [
    "### 2. Write a Python program to find the sum of all items in a dictionary?\n"
   ]
  },
  {
   "cell_type": "code",
   "execution_count": 2,
   "metadata": {},
   "outputs": [
    {
     "name": "stdout",
     "output_type": "stream",
     "text": [
      "Sun of all items is : 137\n"
     ]
    }
   ],
   "source": [
    "test_dict = {'a' : 8,\n",
    "             'b' :  11,\n",
    "             'c' : 12,\n",
    "             'd' : 5}\n",
    "\n",
    "sum = 0\n",
    "for i in test_dict.values():\n",
    "    sum +=sum + i\n",
    "print(\"Sun of all items is : {}\".format(sum))"
   ]
  },
  {
   "cell_type": "markdown",
   "metadata": {},
   "source": [
    "### 3. Write a Python program to Merging two Dictionaries?\n"
   ]
  },
  {
   "cell_type": "code",
   "execution_count": 4,
   "metadata": {},
   "outputs": [
    {
     "name": "stdout",
     "output_type": "stream",
     "text": [
      "dict a :  {'x': 1, 'y': 2}\n",
      "Dict b :  {'y': 3, 'z': 4}\n",
      "updated dictionary : {'x': 1, 'y': 3, 'z': 4}\n"
     ]
    }
   ],
   "source": [
    "a = { 'x': 1, 'y': 2}\n",
    "b = { 'y': 3, 'z': 4}\n",
    "c = a.copy()\n",
    "c.update(b)\n",
    "print(\"dict a : \", a)\n",
    "print(\"Dict b : \", b)\n",
    "print('updated dictionary : {}'.format(c))"
   ]
  },
  {
   "cell_type": "markdown",
   "metadata": {},
   "source": [
    "### 4. Write a Python program to convert key-values list to flat dictionary?\n"
   ]
  },
  {
   "cell_type": "code",
   "execution_count": 5,
   "metadata": {},
   "outputs": [
    {
     "name": "stdout",
     "output_type": "stream",
     "text": [
      "The original dictionary is : {'month': [1, 2, 3], 'name': ['Jan', 'Feb', 'March']}\n",
      "Flattened dictionary : {1: 'Jan', 2: 'Feb', 3: 'March'}\n"
     ]
    }
   ],
   "source": [
    "test_dict = {'month' : [1, 2, 3],\n",
    "             'name' : ['Jan', 'Feb', 'March']}\n",
    "  \n",
    "# printing original dictionary\n",
    "print(\"The original dictionary is : \" + str(test_dict))\n",
    "  \n",
    "# Convert key-values list to flat dictionary\n",
    "# Using dict() + zip()\n",
    "res = dict(zip(test_dict['month'], test_dict['name']))\n",
    "  \n",
    "# printing result \n",
    "print(\"Flattened dictionary : \" + str(res)) "
   ]
  },
  {
   "cell_type": "markdown",
   "metadata": {},
   "source": [
    "### 5. Write a Python program to insertion at the beginning in OrderedDict?\n"
   ]
  },
  {
   "cell_type": "code",
   "execution_count": 6,
   "metadata": {},
   "outputs": [
    {
     "name": "stdout",
     "output_type": "stream",
     "text": [
      "Ordered Dictionary after insertion : OrderedDict([('Jan', '1'), ('Feb', '2'), ('Mar', '3')])\n"
     ]
    }
   ],
   "source": [
    "# insertion of items in beginning of ordered dict\n",
    "from collections import OrderedDict\n",
    "  \n",
    "# initialising ordered_dict\n",
    "iniordered_dict = OrderedDict([('Feb', '2'), ('Mar', '3')])\n",
    "  \n",
    "# inserting items in starting of dict \n",
    "iniordered_dict.update({'Jan':'1'})\n",
    "iniordered_dict.move_to_end('Jan', last = False)\n",
    "  \n",
    "# print result\n",
    "print (\"Ordered Dictionary after insertion : \"+str(iniordered_dict))"
   ]
  },
  {
   "cell_type": "markdown",
   "metadata": {},
   "source": [
    "### 6. Write a Python program to check order of character in string using OrderedDict()?\n"
   ]
  },
  {
   "cell_type": "code",
   "execution_count": 18,
   "metadata": {},
   "outputs": [
    {
     "name": "stdout",
     "output_type": "stream",
     "text": [
      "enter string : engineer\n",
      "Enter Pattern : ng\n",
      "OrderedDict([('e', None), ('n', None), ('g', None), ('i', None), ('r', None)])\n",
      "Pattern matched\n"
     ]
    }
   ],
   "source": [
    "from collections import OrderedDict \n",
    "  \n",
    "def checkOrderofString(str, pattern): \n",
    "      \n",
    "    # create empty OrderedDict \n",
    "    dict = OrderedDict.fromkeys(str) \n",
    "    print(dict)   \n",
    "    ptrlen = 0\n",
    "    for key,value in dict.items(): \n",
    "        \n",
    "        if (key == pattern[ptrlen]): \n",
    "            ptrlen = ptrlen + 1\n",
    "          \n",
    "        # check if we have traverse complete pattern string \n",
    "        if (ptrlen == (len(pattern))):            \n",
    "            return 'true'\n",
    "  \n",
    "    # if we come out from for loop that means order was mismatched \n",
    "    return 'false'\n",
    "  \n",
    "\n",
    "string = input(\"enter string : \")\n",
    "pattern = input(\"Enter Pattern : \")\n",
    "if checkOrderofString(string,pattern):\n",
    "    print(\"Pattern matched\")\n",
    "else:\n",
    "    print(\"Pattern not matched\")\n"
   ]
  },
  {
   "cell_type": "markdown",
   "metadata": {},
   "source": [
    "### 7. Write a Python program to sort Python Dictionaries by Key or Value?"
   ]
  },
  {
   "cell_type": "code",
   "execution_count": 20,
   "metadata": {},
   "outputs": [
    {
     "name": "stdout",
     "output_type": "stream",
     "text": [
      "[1, 2, 3, 4, 5, 6]\n",
      "[(1, 2), (2, 1), (3, 4), (4, 3), (5, 6), (6, 5)]\n"
     ]
    }
   ],
   "source": [
    "a = {1:2 ,2:1 ,4:3 ,3:4 ,6:5 ,5:6 }\n",
    "#this will print a sorted list of the keys\n",
    "print(sorted(a.keys()))\n",
    "#this will print the sorted list with items.\n",
    "print(sorted(a.items()))"
   ]
  },
  {
   "cell_type": "code",
   "execution_count": 24,
   "metadata": {},
   "outputs": [
    {
     "name": "stdout",
     "output_type": "stream",
     "text": [
      "[1, 2, 3, 4, 5, 6]\n"
     ]
    }
   ],
   "source": [
    "a = {1:2 ,2:1 ,4:3 ,3:4 ,6:5 ,5:6 }\n",
    "print(sorted(a.values()))\n",
    "#this will print a sorted list of values."
   ]
  },
  {
   "cell_type": "code",
   "execution_count": null,
   "metadata": {},
   "outputs": [],
   "source": []
  }
 ],
 "metadata": {
  "kernelspec": {
   "display_name": "Python 3",
   "language": "python",
   "name": "python3"
  },
  "language_info": {
   "codemirror_mode": {
    "name": "ipython",
    "version": 3
   },
   "file_extension": ".py",
   "mimetype": "text/x-python",
   "name": "python",
   "nbconvert_exporter": "python",
   "pygments_lexer": "ipython3",
   "version": "3.8.3"
  }
 },
 "nbformat": 4,
 "nbformat_minor": 4
}
